{
  "nbformat": 4,
  "nbformat_minor": 0,
  "metadata": {
    "colab": {
      "provenance": []
    },
    "kernelspec": {
      "name": "python3",
      "display_name": "Python 3"
    },
    "language_info": {
      "name": "python"
    }
  },
  "cells": [
    {
      "cell_type": "code",
      "execution_count": 1,
      "metadata": {
        "colab": {
          "base_uri": "https://localhost:8080/"
        },
        "id": "06gd-ufl45JL",
        "outputId": "44cf8c95-ecd7-4ed3-e4bc-ddbd2011a14d"
      },
      "outputs": [
        {
          "output_type": "stream",
          "name": "stderr",
          "text": [
            "[nltk_data] Downloading package stopwords to /root/nltk_data...\n",
            "[nltk_data]   Unzipping corpora/stopwords.zip.\n"
          ]
        }
      ],
      "source": [
        "import nltk\n",
        "import spacy\n",
        "import re\n",
        "from collections import Counter\n",
        "from sklearn.feature_extraction.text import TfidfVectorizer\n",
        "from sklearn.metrics.pairwise import cosine_similarity\n",
        "\n",
        "# Download resources\n",
        "nltk.download('stopwords')\n",
        "from nltk.corpus import stopwords\n",
        "nlp = spacy.load(\"en_core_web_sm\")\n"
      ]
    },
    {
      "cell_type": "code",
      "source": [
        "resume_text = \"\"\"\n",
        "Harshal Lad\n",
        "Python Developer with experience in Machine Learning, Data Science, and NLP.\n",
        "Worked with libraries like NumPy, Pandas, Scikit-learn, TensorFlow.\n",
        "Also experienced in MERN stack development, SQL and MongoDB.\n",
        "Looking for opportunities in AI/ML and Full-stack development.\n",
        "\"\"\"\n",
        "\n",
        "jd_text = \"\"\"\n",
        "We are looking for a Machine Learning Engineer with strong skills in Python,\n",
        "Data Science, and Deep Learning frameworks like TensorFlow or PyTorch.\n",
        "Experience with NLP and web technologies such as MERN stack is a plus.\n",
        "\"\"\"\n"
      ],
      "metadata": {
        "id": "k0ypjLI85kV3"
      },
      "execution_count": 2,
      "outputs": []
    },
    {
      "cell_type": "code",
      "source": [
        "def preprocess(text):\n",
        "    text = text.lower()\n",
        "    text = re.sub(r'[^a-zA-Z\\s]', '', text)\n",
        "    return text\n",
        "\n",
        "clean_resume = preprocess(resume_text)\n",
        "clean_jd = preprocess(jd_text)\n",
        "\n",
        "print(\"Cleaned Resume:\\n\", clean_resume[:500])\n",
        "print(\"Cleaned JD:\\n\", clean_jd[:500])\n"
      ],
      "metadata": {
        "colab": {
          "base_uri": "https://localhost:8080/"
        },
        "id": "n7vqMSqf6Tg-",
        "outputId": "daf2b5fe-1cdc-4c9f-db87-184e86d49100"
      },
      "execution_count": 5,
      "outputs": [
        {
          "output_type": "stream",
          "name": "stdout",
          "text": [
            "Cleaned Resume:\n",
            " \n",
            "harshal lad\n",
            "python developer with experience in machine learning data science and nlp\n",
            "worked with libraries like numpy pandas scikitlearn tensorflow\n",
            "also experienced in mern stack development sql and mongodb\n",
            "looking for opportunities in aiml and fullstack development\n",
            "\n",
            "Cleaned JD:\n",
            " \n",
            "we are looking for a machine learning engineer with strong skills in python\n",
            "data science and deep learning frameworks like tensorflow or pytorch\n",
            "experience with nlp and web technologies such as mern stack is a plus\n",
            "\n"
          ]
        }
      ]
    },
    {
      "cell_type": "code",
      "source": [
        "stop_words = set(stopwords.words('english'))\n",
        "\n",
        "def tokenize_and_filter(text):\n",
        "    words = text.split()\n",
        "    return [w for w in words if w not in stop_words]\n",
        "\n",
        "resume_tokens = tokenize_and_filter(clean_resume)\n",
        "jd_tokens = tokenize_and_filter(clean_jd)\n",
        "\n",
        "print(\"Filtered Resume Tokens:\", resume_tokens[:50])\n"
      ],
      "metadata": {
        "colab": {
          "base_uri": "https://localhost:8080/"
        },
        "id": "wCVrf3Fs6rkF",
        "outputId": "9b1fae4f-a006-4f1b-9699-bdabd9754405"
      },
      "execution_count": 7,
      "outputs": [
        {
          "output_type": "stream",
          "name": "stdout",
          "text": [
            "Filtered Resume Tokens: ['harshal', 'lad', 'python', 'developer', 'experience', 'machine', 'learning', 'data', 'science', 'nlp', 'worked', 'libraries', 'like', 'numpy', 'pandas', 'scikitlearn', 'tensorflow', 'also', 'experienced', 'mern', 'stack', 'development', 'sql', 'mongodb', 'looking', 'opportunities', 'aiml', 'fullstack', 'development']\n"
          ]
        }
      ]
    },
    {
      "cell_type": "code",
      "source": [
        "resume_set = set(resume_tokens)\n",
        "jd_set = set(jd_tokens)\n",
        "\n",
        "matched = resume_set.intersection(jd_set)\n",
        "missing = jd_set - resume_set\n",
        "match_percent = (len(matched) / len(jd_set)) * 100\n",
        "\n",
        "print(\"Matched Skills:\", matched)\n",
        "print(\"Missing Skills:\", missing)\n",
        "print(f\"Match Score: {match_percent:.2f}%\")\n"
      ],
      "metadata": {
        "colab": {
          "base_uri": "https://localhost:8080/"
        },
        "id": "sRHSe9Y66yI3",
        "outputId": "c608ef47-53d7-4318-ef22-2e22122cb149"
      },
      "execution_count": 8,
      "outputs": [
        {
          "output_type": "stream",
          "name": "stdout",
          "text": [
            "Matched Skills: {'tensorflow', 'science', 'learning', 'mern', 'like', 'looking', 'stack', 'machine', 'python', 'experience', 'data', 'nlp'}\n",
            "Missing Skills: {'technologies', 'web', 'strong', 'deep', 'pytorch', 'frameworks', 'skills', 'plus', 'engineer'}\n",
            "Match Score: 57.14%\n"
          ]
        }
      ]
    },
    {
      "cell_type": "code",
      "source": [
        "vectorizer = TfidfVectorizer()\n",
        "tfidf_matrix = vectorizer.fit_transform([clean_resume, clean_jd])\n",
        "similarity = cosine_similarity(tfidf_matrix[0:1], tfidf_matrix[1:2])[0][0]\n",
        "\n",
        "print(f\"TF-IDF Similarity Score: {similarity*100:.2f}%\")\n"
      ],
      "metadata": {
        "colab": {
          "base_uri": "https://localhost:8080/"
        },
        "id": "ctRcjyg265Qx",
        "outputId": "700026dc-ff7b-4091-80cb-303341b944ba"
      },
      "execution_count": 9,
      "outputs": [
        {
          "output_type": "stream",
          "name": "stdout",
          "text": [
            "TF-IDF Similarity Score: 42.89%\n"
          ]
        }
      ]
    }
  ]
}